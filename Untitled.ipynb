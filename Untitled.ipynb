{
 "cells": [
  {
   "cell_type": "code",
   "execution_count": 21,
   "source": [
    "import pandas as pd\r\n",
    "import numpy as np"
   ],
   "outputs": [],
   "metadata": {}
  },
  {
   "cell_type": "code",
   "execution_count": 22,
   "source": [
    "df = pd.read_table(\"A:\\\\Pending Projects\\\\OCR Calculator\\\\ocr-calculator\\Data\\\\fun.txt\", sep = \", \")\r\n",
    "input_text = \"sin^2(x) + cos^2(x)\"\r\n"
   ],
   "outputs": [
    {
     "output_type": "stream",
     "name": "stderr",
     "text": [
      "E:\\anaconda3\\envs\\tensorflow_env\\lib\\site-packages\\pandas\\io\\parsers.py:767: ParserWarning: Falling back to the 'python' engine because the 'c' engine does not support regex separators (separators > 1 char and different from '\\s+' are interpreted as regex); you can avoid this warning by specifying engine='python'.\n",
      "  return read_csv(**locals())\n"
     ]
    }
   ],
   "metadata": {}
  },
  {
   "cell_type": "code",
   "execution_count": 24,
   "source": [
    "input_fun = np.array(df['Input'])\r\n",
    "output_fun = np.array(df['Output'])\r\n",
    "if input_text in input_fun :\r\n",
    "    print(output_fun[np.where(input_fun == input_text)])\r\n",
    "    \r\n",
    "else :\r\n",
    "    raise ValueError(\"Required Input Function Not Found\")"
   ],
   "outputs": [
    {
     "output_type": "stream",
     "name": "stdout",
     "text": [
      "[1]\n"
     ]
    }
   ],
   "metadata": {}
  }
 ],
 "metadata": {
  "kernelspec": {
   "name": "python3",
   "display_name": "Python 3.6.13 64-bit ('tensorflow_env': conda)"
  },
  "language_info": {
   "codemirror_mode": {
    "name": "ipython",
    "version": 3
   },
   "file_extension": ".py",
   "mimetype": "text/x-python",
   "name": "python",
   "nbconvert_exporter": "python",
   "pygments_lexer": "ipython3",
   "version": "3.6.13"
  },
  "interpreter": {
   "hash": "b0e6094f8a2801abe6ca4c36b24a047c8760e3315dfb5dad3081c52e34ef5d1d"
  }
 },
 "nbformat": 4,
 "nbformat_minor": 5
}